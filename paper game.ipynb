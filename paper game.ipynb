{
 "cells": [
  {
   "cell_type": "code",
   "execution_count": null,
   "metadata": {},
   "outputs": [
    {
     "ename": "",
     "evalue": "",
     "output_type": "error",
     "traceback": [
      "\u001b[1;31mRunning cells with 'c:\\Users\\Tamilselvan\\AppData\\Local\\Programs\\Python\\Python39\\python.exe' requires the ipykernel package.\n",
      "\u001b[1;31mRun the following command to install 'ipykernel' into the Python environment. \n",
      "\u001b[1;31mCommand: 'c:/Users/Tamilselvan/AppData/Local/Programs/Python/Python39/python.exe -m pip install ipykernel -U --user --force-reinstall'"
     ]
    }
   ],
   "source": [
    "import mediapipe as mp\n",
    "import cv2\n",
    "import random\n",
    "\n",
    "mp_hands = mp.solutions.hands\n",
    "hands = mp_hands.Hands(static_image_mode=False, max_num_hands=1, min_detection_confidence=0.5)\n",
    "\n",
    "# Images for the game\n",
    "img1 = cv2.imread('img1.png')\n",
    "img2 = cv2.imread('img2.png')\n",
    "img3 = cv2.imread('img3.png')\n",
    "images = [img1, img2, img3]\n",
    "\n",
    "# Initialize game score\n",
    "score = 0\n",
    "\n",
    "# Initialize game screen\n",
    "screen = cv2.imread('screen.png')\n",
    "\n",
    "# Main game loop\n",
    "while True:\n",
    "    # Randomly select an image to show\n",
    "    img = random.choice(images)\n",
    "\n",
    "    # Show the image for 5 seconds\n",
    "    cv2.imshow('Finger Game', img)\n",
    "    cv2.imshow('Screen', screen)\n",
    "    cv2.waitKey(5000)\n",
    "\n",
    "    # Process the image with the hand tracking model\n",
    "    img = cv2.cvtColor(img, cv2.COLOR_BGR2RGB)\n",
    "    results = hands.process(img)\n",
    "    if results.multi_hand_landmarks:\n",
    "        hand_landmarks = results.multi_hand_landmarks[0]\n",
    "        finger_count = 0\n",
    "        for finger in [4, 8, 12, 16, 20]:\n",
    "            if hand_landmarks.landmark[finger].y < hand_landmarks.landmark[finger-2].y:\n",
    "                finger_count += 1\n",
    "        if img is img1:\n",
    "            if finger_count == 2:\n",
    "                score += 1\n",
    "        elif img is img2:\n",
    "            if finger_count == 0:\n",
    "                score += 1\n",
    "        elif img is img3:\n",
    "            if finger_count == 2:\n",
    "                score += 1\n",
    "            elif finger_count == 5:\n",
    "                score += 1\n",
    "\n",
    "    # Check if game is over\n",
    "    if score >= 10:\n",
    "        print('Player wins!')\n",
    "        break\n",
    "\n",
    "# Clean up\n",
    "hands.close()\n",
    "cv2.destroyAllWindows()\n"
   ]
  },
  {
   "cell_type": "code",
   "execution_count": null,
   "metadata": {},
   "outputs": [
    {
     "ename": "",
     "evalue": "",
     "output_type": "error",
     "traceback": [
      "\u001b[1;31mRunning cells with 'c:\\Users\\Tamilselvan\\AppData\\Local\\Programs\\Python\\Python39\\python.exe' requires the ipykernel package.\n",
      "\u001b[1;31mRun the following command to install 'ipykernel' into the Python environment. \n",
      "\u001b[1;31mCommand: 'c:/Users/Tamilselvan/AppData/Local/Programs/Python/Python39/python.exe -m pip install ipykernel -U --user --force-reinstall'"
     ]
    }
   ],
   "source": [
    "pip install ipykernel\n"
   ]
  }
 ],
 "metadata": {
  "kernelspec": {
   "display_name": "Python 3",
   "language": "python",
   "name": "python3"
  },
  "language_info": {
   "name": "python",
   "version": "3.9.13"
  },
  "orig_nbformat": 4
 },
 "nbformat": 4,
 "nbformat_minor": 2
}
